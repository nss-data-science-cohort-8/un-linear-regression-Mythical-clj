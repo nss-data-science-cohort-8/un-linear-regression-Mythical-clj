{
 "cells": [
  {
   "cell_type": "markdown",
   "id": "327608ea-c2e0-4f95-9ab7-f4b83220f7ed",
   "metadata": {},
   "source": [
    "# Linear Regression Practice #\n"
   ]
  },
  {
   "cell_type": "code",
   "execution_count": 30,
   "id": "2a08b8f5-c770-458f-8df1-539c49da20d4",
   "metadata": {},
   "outputs": [],
   "source": [
    "import pandas as pd\n",
    "import numpy as np\n",
    "import matplotlib.pyplot as plt\n",
    "import seaborn as sns\n",
    "import statsmodels.formula.api as smf\n",
    "import statsmodels.stats.api as sms"
   ]
  },
  {
   "cell_type": "code",
   "execution_count": 31,
   "id": "a1adbda2-b535-4cba-8094-8c3ae09adf0c",
   "metadata": {},
   "outputs": [],
   "source": [
    "gdp_le = pd.read_csv('../data/gdp_le.csv')"
   ]
  },
  {
   "cell_type": "code",
   "execution_count": 34,
   "id": "65c9d550-fdaa-47e6-ace0-197e0bcf2d02",
   "metadata": {},
   "outputs": [
    {
     "data": {
      "text/html": [
       "<div>\n",
       "<style scoped>\n",
       "    .dataframe tbody tr th:only-of-type {\n",
       "        vertical-align: middle;\n",
       "    }\n",
       "\n",
       "    .dataframe tbody tr th {\n",
       "        vertical-align: top;\n",
       "    }\n",
       "\n",
       "    .dataframe thead th {\n",
       "        text-align: right;\n",
       "    }\n",
       "</style>\n",
       "<table border=\"1\" class=\"dataframe\">\n",
       "  <thead>\n",
       "    <tr style=\"text-align: right;\">\n",
       "      <th></th>\n",
       "      <th>Country</th>\n",
       "      <th>Year</th>\n",
       "      <th>GDP_Per_Capita</th>\n",
       "      <th>Continent</th>\n",
       "      <th>Life_Expectancy</th>\n",
       "    </tr>\n",
       "  </thead>\n",
       "  <tbody>\n",
       "    <tr>\n",
       "      <th>0</th>\n",
       "      <td>Afghanistan</td>\n",
       "      <td>2021</td>\n",
       "      <td>1517.016266</td>\n",
       "      <td>Asia</td>\n",
       "      <td>61.982</td>\n",
       "    </tr>\n",
       "    <tr>\n",
       "      <th>1</th>\n",
       "      <td>Afghanistan</td>\n",
       "      <td>2020</td>\n",
       "      <td>1968.341002</td>\n",
       "      <td>Asia</td>\n",
       "      <td>62.575</td>\n",
       "    </tr>\n",
       "    <tr>\n",
       "      <th>2</th>\n",
       "      <td>Afghanistan</td>\n",
       "      <td>2019</td>\n",
       "      <td>2079.921861</td>\n",
       "      <td>Asia</td>\n",
       "      <td>63.565</td>\n",
       "    </tr>\n",
       "    <tr>\n",
       "      <th>3</th>\n",
       "      <td>Afghanistan</td>\n",
       "      <td>2018</td>\n",
       "      <td>2060.698973</td>\n",
       "      <td>Asia</td>\n",
       "      <td>63.081</td>\n",
       "    </tr>\n",
       "    <tr>\n",
       "      <th>4</th>\n",
       "      <td>Afghanistan</td>\n",
       "      <td>2017</td>\n",
       "      <td>2096.093111</td>\n",
       "      <td>Asia</td>\n",
       "      <td>63.016</td>\n",
       "    </tr>\n",
       "  </tbody>\n",
       "</table>\n",
       "</div>"
      ],
      "text/plain": [
       "       Country  Year  GDP_Per_Capita Continent  Life_Expectancy\n",
       "0  Afghanistan  2021     1517.016266      Asia           61.982\n",
       "1  Afghanistan  2020     1968.341002      Asia           62.575\n",
       "2  Afghanistan  2019     2079.921861      Asia           63.565\n",
       "3  Afghanistan  2018     2060.698973      Asia           63.081\n",
       "4  Afghanistan  2017     2096.093111      Asia           63.016"
      ]
     },
     "execution_count": 34,
     "metadata": {},
     "output_type": "execute_result"
    }
   ],
   "source": [
    "gdp_le.head()"
   ]
  },
  {
   "cell_type": "markdown",
   "id": "f6271d2f-2a6c-4794-b84c-3e3537bfc4e0",
   "metadata": {},
   "source": [
    "**1. Start by fitting a linear regression model with target being life expectancy and predictor variable year.**"
   ]
  },
  {
   "cell_type": "code",
   "execution_count": 38,
   "id": "5d72bd8b-cc40-4b2d-ae5e-7c95d748d992",
   "metadata": {},
   "outputs": [],
   "source": [
    "gdp_le_linear = smf.ols(\"Life_Expectancy ~ Year\", data=gdp_le).fit()"
   ]
  },
  {
   "cell_type": "markdown",
   "id": "e33d3f82-6da2-4392-be1f-975fda0d3dfb",
   "metadata": {},
   "source": [
    "**1a. What coefficients do you get? Interpret the meaning of these coefficents.**\n",
    "\n",
    "It shows a steep negative line where the initial decrease of the dependent variable is much lower than the independent variables, lowest point."
   ]
  },
  {
   "cell_type": "code",
   "execution_count": 40,
   "id": "e69e53d9-67c5-4a7d-a857-8bd21a8dbe0a",
   "metadata": {},
   "outputs": [
    {
     "data": {
      "text/plain": [
       "Intercept   -468.138140\n",
       "Year           0.267722\n",
       "dtype: float64"
      ]
     },
     "execution_count": 40,
     "metadata": {},
     "output_type": "execute_result"
    }
   ],
   "source": [
    "gdp_le_linear.params"
   ]
  },
  {
   "cell_type": "code",
   "execution_count": null,
   "id": "12ffae1b-9fbb-4cba-9bdb-dd80022ab7cf",
   "metadata": {},
   "outputs": [],
   "source": []
  },
  {
   "cell_type": "markdown",
   "id": "28f1a8db-4910-4c03-81cb-5f4d69341bd6",
   "metadata": {},
   "source": [
    "**1b. Using just the year makes the intercept term difficult to interpret. Create a new model, but this time use years since 1990 as your predictor variable. Hint: You can the patsy identity function to modify your predictors in your model formula. Inspect the new coefficients and interpret the meaning of them. Are they statistically significant?**"
   ]
  },
  {
   "cell_type": "code",
   "execution_count": null,
   "id": "a244ec6c-7459-4cd1-ad91-3afa5bc50fa1",
   "metadata": {},
   "outputs": [],
   "source": []
  },
  {
   "cell_type": "markdown",
   "id": "a7fc895b-6a4d-4363-afb2-07b425e561f3",
   "metadata": {},
   "source": [
    "**1c. Compare the actual mean life expectancy per year to the model's estimate. How well does it do?**"
   ]
  },
  {
   "cell_type": "code",
   "execution_count": null,
   "id": "3ba6f18a-f195-4984-b44a-9f77edb0702a",
   "metadata": {},
   "outputs": [],
   "source": []
  },
  {
   "cell_type": "markdown",
   "id": "682bcc52-e185-4a24-be28-be776416a8fe",
   "metadata": {},
   "source": [
    "**1d. Plot the actual values against your model's estimates for the mean life expectancy.**"
   ]
  },
  {
   "cell_type": "code",
   "execution_count": null,
   "id": "1ce55c27-71e0-41ea-bba2-c045ab0c7c10",
   "metadata": {},
   "outputs": [],
   "source": []
  },
  {
   "cell_type": "markdown",
   "id": "d774e358-683b-4010-aa00-fdf60cf19af6",
   "metadata": {},
   "source": [
    "**1e. Inspect the R-squared value for the model. does it make sense, given the plot?**"
   ]
  },
  {
   "cell_type": "code",
   "execution_count": null,
   "id": "9f17cfd1-f937-431d-98a0-5fd713f0a1a9",
   "metadata": {},
   "outputs": [],
   "source": []
  },
  {
   "cell_type": "markdown",
   "id": "03f62287-2024-4984-a6f1-343ee43129f7",
   "metadata": {},
   "source": [
    "**2. Filter the full dataset down to just the year 2021. Fit a linear regression model with target being life expectancy and predictor variable gdp per capita.**"
   ]
  },
  {
   "cell_type": "code",
   "execution_count": null,
   "id": "d9dd8529-64fc-4aac-a724-4484a7a637de",
   "metadata": {},
   "outputs": [],
   "source": []
  },
  {
   "cell_type": "markdown",
   "id": "d885b1b1-9905-421f-a544-e177bdc7ace6",
   "metadata": {},
   "source": [
    "**2a. What coefficients do you get? Interpret the meaning of those coefficients.**"
   ]
  },
  {
   "cell_type": "code",
   "execution_count": null,
   "id": "272a0103-0138-413b-ac85-8124da95f85e",
   "metadata": {},
   "outputs": [],
   "source": []
  },
  {
   "cell_type": "markdown",
   "id": "f5e10375-0f37-4c12-ba2f-a23fcaf9e755",
   "metadata": {},
   "source": [
    "**2b. Refit your model, but this time use thousands of dollars of gdp per capita as your predictor. How does this change your coefficients?**"
   ]
  },
  {
   "cell_type": "code",
   "execution_count": null,
   "id": "60330377-d7ed-43f2-86bc-91aa24822916",
   "metadata": {},
   "outputs": [],
   "source": []
  },
  {
   "cell_type": "markdown",
   "id": "0d9d362f-1c4a-4fef-93b8-d75e89e745e9",
   "metadata": {},
   "source": [
    "**2c. Are the coefficients statistically significant?**"
   ]
  },
  {
   "cell_type": "code",
   "execution_count": null,
   "id": "1353a8c9-09ce-4be9-b079-53a884212cb0",
   "metadata": {},
   "outputs": [],
   "source": []
  },
  {
   "cell_type": "markdown",
   "id": "570ce0eb-e890-4b40-bf9f-9946ff5c8285",
   "metadata": {},
   "source": [
    "**2d. What does your model estimate for the mean life expectancy for a country whose gdp per capita is 50,000? What about one whose gdp per capita is 100,000? e. Plot the actual values compared to your model's estimates for mean life expectancy. How would you assess the model's fit?**\r\n",
    "\r\n"
   ]
  },
  {
   "cell_type": "code",
   "execution_count": null,
   "id": "c8eb198f-1b15-4216-a0af-3d0a9bdd59c7",
   "metadata": {},
   "outputs": [],
   "source": []
  },
  {
   "cell_type": "markdown",
   "id": "39c0ea8b-2827-46f8-8548-1c7806bedbd5",
   "metadata": {},
   "source": [
    "**3. Now, fit a model for life expectancy based on the log of gdp per capita.**?"
   ]
  },
  {
   "cell_type": "code",
   "execution_count": null,
   "id": "1d987a9c-7ad0-4fcd-bb8f-d99eae506a18",
   "metadata": {},
   "outputs": [],
   "source": []
  },
  {
   "cell_type": "markdown",
   "id": "53382bb0-540d-4f29-9ee3-66ff8389bdd4",
   "metadata": {},
   "source": [
    "**3a. Inspect the coefficients for this model. Are they statistically significant? b. Interpret these coefficients. What does the model estimate for the average life expectancy for countries with a gdp per capita of 50,000? What about for those with a gdp per capita of 100,000?**"
   ]
  },
  {
   "cell_type": "code",
   "execution_count": null,
   "id": "385d4b2d-84ba-490a-b74c-ae7b042044a3",
   "metadata": {},
   "outputs": [],
   "source": []
  },
  {
   "cell_type": "markdown",
   "id": "894dc3c1-a717-45c9-934d-55069af8cc94",
   "metadata": {},
   "source": [
    "**3c. Plot the actual values compared to your models' estimates for the mean life expectancy. How does this compare to the non-logged model?**"
   ]
  },
  {
   "cell_type": "code",
   "execution_count": null,
   "id": "c30c05e2-0a5e-4930-9e6c-961afeeab84e",
   "metadata": {},
   "outputs": [],
   "source": []
  },
  {
   "cell_type": "markdown",
   "id": "1f6b720e-68b8-46ae-97f9-d8ca5e0d3806",
   "metadata": {},
   "source": [
    "**4. Finally, return to the full dataset.**"
   ]
  },
  {
   "cell_type": "code",
   "execution_count": null,
   "id": "bca4f211-c6a7-47ba-b0cc-7b257db471a5",
   "metadata": {},
   "outputs": [],
   "source": []
  },
  {
   "cell_type": "markdown",
   "id": "ac6bf362-edcb-4093-b63d-9729cfca3430",
   "metadata": {},
   "source": [
    "**4a. First, fit a linear regression model for life expectancy based on the log of gdp per capita.**"
   ]
  },
  {
   "cell_type": "code",
   "execution_count": null,
   "id": "4becb9e3-0771-4783-ab7f-ea39adf180d7",
   "metadata": {},
   "outputs": [],
   "source": []
  },
  {
   "cell_type": "markdown",
   "id": "1583db45-f8bc-4e07-b621-f202a7a82bb9",
   "metadata": {},
   "source": [
    "**4b. Then, add the year variable to your model. How can you interpret the coefficient associated with year? What limitations or weaknesses might this model have?**"
   ]
  },
  {
   "cell_type": "code",
   "execution_count": null,
   "id": "4c4aec99-5d41-4db2-9ae0-ff165f02f73d",
   "metadata": {},
   "outputs": [],
   "source": []
  }
 ],
 "metadata": {
  "kernelspec": {
   "display_name": "Python 3 (ipykernel)",
   "language": "python",
   "name": "python3"
  },
  "language_info": {
   "codemirror_mode": {
    "name": "ipython",
    "version": 3
   },
   "file_extension": ".py",
   "mimetype": "text/x-python",
   "name": "python",
   "nbconvert_exporter": "python",
   "pygments_lexer": "ipython3",
   "version": "3.12.4"
  }
 },
 "nbformat": 4,
 "nbformat_minor": 5
}
