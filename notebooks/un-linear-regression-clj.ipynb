{
 "cells": [
  {
   "cell_type": "markdown",
   "id": "327608ea-c2e0-4f95-9ab7-f4b83220f7ed",
   "metadata": {},
   "source": [
    "# Linear Regression Practice #\n"
   ]
  },
  {
   "cell_type": "markdown",
   "id": "4d700f2a-8139-479d-918b-c1c35ce27bbb",
   "metadata": {},
   "source": [
    "### Cavin Jacobson ###"
   ]
  },
  {
   "cell_type": "code",
   "execution_count": 2,
   "id": "2a08b8f5-c770-458f-8df1-539c49da20d4",
   "metadata": {},
   "outputs": [],
   "source": [
    "import pandas as pd\n",
    "import numpy as np\n",
    "import matplotlib.pyplot as plt\n",
    "import seaborn as sns\n",
    "import statsmodels.formula.api as smf\n",
    "import statsmodels.stats.api as sms\n",
    "import statsmodels.api as sm"
   ]
  },
  {
   "cell_type": "code",
   "execution_count": 3,
   "id": "a1adbda2-b535-4cba-8094-8c3ae09adf0c",
   "metadata": {},
   "outputs": [],
   "source": [
    "gdp_le = pd.read_csv('../data/gdp_le.csv')"
   ]
  },
  {
   "cell_type": "code",
   "execution_count": 4,
   "id": "65c9d550-fdaa-47e6-ace0-197e0bcf2d02",
   "metadata": {},
   "outputs": [
    {
     "data": {
      "text/html": [
       "<div>\n",
       "<style scoped>\n",
       "    .dataframe tbody tr th:only-of-type {\n",
       "        vertical-align: middle;\n",
       "    }\n",
       "\n",
       "    .dataframe tbody tr th {\n",
       "        vertical-align: top;\n",
       "    }\n",
       "\n",
       "    .dataframe thead th {\n",
       "        text-align: right;\n",
       "    }\n",
       "</style>\n",
       "<table border=\"1\" class=\"dataframe\">\n",
       "  <thead>\n",
       "    <tr style=\"text-align: right;\">\n",
       "      <th></th>\n",
       "      <th>Country</th>\n",
       "      <th>Year</th>\n",
       "      <th>GDP_Per_Capita</th>\n",
       "      <th>Continent</th>\n",
       "      <th>Life_Expectancy</th>\n",
       "    </tr>\n",
       "  </thead>\n",
       "  <tbody>\n",
       "    <tr>\n",
       "      <th>0</th>\n",
       "      <td>Afghanistan</td>\n",
       "      <td>2021</td>\n",
       "      <td>1517.016266</td>\n",
       "      <td>Asia</td>\n",
       "      <td>61.982</td>\n",
       "    </tr>\n",
       "    <tr>\n",
       "      <th>1</th>\n",
       "      <td>Afghanistan</td>\n",
       "      <td>2020</td>\n",
       "      <td>1968.341002</td>\n",
       "      <td>Asia</td>\n",
       "      <td>62.575</td>\n",
       "    </tr>\n",
       "    <tr>\n",
       "      <th>2</th>\n",
       "      <td>Afghanistan</td>\n",
       "      <td>2019</td>\n",
       "      <td>2079.921861</td>\n",
       "      <td>Asia</td>\n",
       "      <td>63.565</td>\n",
       "    </tr>\n",
       "    <tr>\n",
       "      <th>3</th>\n",
       "      <td>Afghanistan</td>\n",
       "      <td>2018</td>\n",
       "      <td>2060.698973</td>\n",
       "      <td>Asia</td>\n",
       "      <td>63.081</td>\n",
       "    </tr>\n",
       "    <tr>\n",
       "      <th>4</th>\n",
       "      <td>Afghanistan</td>\n",
       "      <td>2017</td>\n",
       "      <td>2096.093111</td>\n",
       "      <td>Asia</td>\n",
       "      <td>63.016</td>\n",
       "    </tr>\n",
       "  </tbody>\n",
       "</table>\n",
       "</div>"
      ],
      "text/plain": [
       "       Country  Year  GDP_Per_Capita Continent  Life_Expectancy\n",
       "0  Afghanistan  2021     1517.016266      Asia           61.982\n",
       "1  Afghanistan  2020     1968.341002      Asia           62.575\n",
       "2  Afghanistan  2019     2079.921861      Asia           63.565\n",
       "3  Afghanistan  2018     2060.698973      Asia           63.081\n",
       "4  Afghanistan  2017     2096.093111      Asia           63.016"
      ]
     },
     "execution_count": 4,
     "metadata": {},
     "output_type": "execute_result"
    }
   ],
   "source": [
    "gdp_le.head()"
   ]
  },
  {
   "cell_type": "markdown",
   "id": "f6271d2f-2a6c-4794-b84c-3e3537bfc4e0",
   "metadata": {},
   "source": [
    "**1. Start by fitting a linear regression model with target being life expectancy and predictor variable year.**"
   ]
  },
  {
   "cell_type": "code",
   "execution_count": 6,
   "id": "5d72bd8b-cc40-4b2d-ae5e-7c95d748d992",
   "metadata": {},
   "outputs": [],
   "source": [
    "gdp_le_linear = smf.ols(\"Life_Expectancy ~ Year\", data=gdp_le).fit()"
   ]
  },
  {
   "cell_type": "code",
   "execution_count": 333,
   "id": "a244ec6c-7459-4cd1-ad91-3afa5bc50fa1",
   "metadata": {},
   "outputs": [
    {
     "data": {
      "text/html": [
       "<table class=\"simpletable\">\n",
       "<caption>OLS Regression Results</caption>\n",
       "<tr>\n",
       "  <th>Dep. Variable:</th>     <td>Life_Expectancy</td> <th>  R-squared:         </th> <td>   0.072</td> \n",
       "</tr>\n",
       "<tr>\n",
       "  <th>Model:</th>                   <td>OLS</td>       <th>  Adj. R-squared:    </th> <td>   0.071</td> \n",
       "</tr>\n",
       "<tr>\n",
       "  <th>Method:</th>             <td>Least Squares</td>  <th>  F-statistic:       </th> <td>   424.0</td> \n",
       "</tr>\n",
       "<tr>\n",
       "  <th>Date:</th>             <td>Sat, 19 Oct 2024</td> <th>  Prob (F-statistic):</th> <td>8.13e-91</td> \n",
       "</tr>\n",
       "<tr>\n",
       "  <th>Time:</th>                 <td>13:24:38</td>     <th>  Log-Likelihood:    </th> <td> -19950.</td> \n",
       "</tr>\n",
       "<tr>\n",
       "  <th>No. Observations:</th>      <td>  5504</td>      <th>  AIC:               </th> <td>3.990e+04</td>\n",
       "</tr>\n",
       "<tr>\n",
       "  <th>Df Residuals:</th>          <td>  5502</td>      <th>  BIC:               </th> <td>3.992e+04</td>\n",
       "</tr>\n",
       "<tr>\n",
       "  <th>Df Model:</th>              <td>     1</td>      <th>                     </th>     <td> </td>    \n",
       "</tr>\n",
       "<tr>\n",
       "  <th>Covariance Type:</th>      <td>nonrobust</td>    <th>                     </th>     <td> </td>    \n",
       "</tr>\n",
       "</table>\n",
       "<table class=\"simpletable\">\n",
       "<tr>\n",
       "      <td></td>         <th>coef</th>     <th>std err</th>      <th>t</th>      <th>P>|t|</th>  <th>[0.025</th>    <th>0.975]</th>  \n",
       "</tr>\n",
       "<tr>\n",
       "  <th>Intercept</th> <td> -468.1381</td> <td>   26.087</td> <td>  -17.945</td> <td> 0.000</td> <td> -519.279</td> <td> -416.998</td>\n",
       "</tr>\n",
       "<tr>\n",
       "  <th>Year</th>      <td>    0.2677</td> <td>    0.013</td> <td>   20.591</td> <td> 0.000</td> <td>    0.242</td> <td>    0.293</td>\n",
       "</tr>\n",
       "</table>\n",
       "<table class=\"simpletable\">\n",
       "<tr>\n",
       "  <th>Omnibus:</th>       <td>387.409</td> <th>  Durbin-Watson:     </th> <td>   0.058</td> \n",
       "</tr>\n",
       "<tr>\n",
       "  <th>Prob(Omnibus):</th> <td> 0.000</td>  <th>  Jarque-Bera (JB):  </th> <td> 469.138</td> \n",
       "</tr>\n",
       "<tr>\n",
       "  <th>Skew:</th>          <td>-0.709</td>  <th>  Prob(JB):          </th> <td>1.34e-102</td>\n",
       "</tr>\n",
       "<tr>\n",
       "  <th>Kurtosis:</th>      <td> 2.820</td>  <th>  Cond. No.          </th> <td>4.28e+05</td> \n",
       "</tr>\n",
       "</table><br/><br/>Notes:<br/>[1] Standard Errors assume that the covariance matrix of the errors is correctly specified.<br/>[2] The condition number is large, 4.28e+05. This might indicate that there are<br/>strong multicollinearity or other numerical problems."
      ],
      "text/latex": [
       "\\begin{center}\n",
       "\\begin{tabular}{lclc}\n",
       "\\toprule\n",
       "\\textbf{Dep. Variable:}    & Life\\_Expectancy & \\textbf{  R-squared:         } &     0.072   \\\\\n",
       "\\textbf{Model:}            &       OLS        & \\textbf{  Adj. R-squared:    } &     0.071   \\\\\n",
       "\\textbf{Method:}           &  Least Squares   & \\textbf{  F-statistic:       } &     424.0   \\\\\n",
       "\\textbf{Date:}             & Sat, 19 Oct 2024 & \\textbf{  Prob (F-statistic):} &  8.13e-91   \\\\\n",
       "\\textbf{Time:}             &     13:24:38     & \\textbf{  Log-Likelihood:    } &   -19950.   \\\\\n",
       "\\textbf{No. Observations:} &        5504      & \\textbf{  AIC:               } & 3.990e+04   \\\\\n",
       "\\textbf{Df Residuals:}     &        5502      & \\textbf{  BIC:               } & 3.992e+04   \\\\\n",
       "\\textbf{Df Model:}         &           1      & \\textbf{                     } &             \\\\\n",
       "\\textbf{Covariance Type:}  &    nonrobust     & \\textbf{                     } &             \\\\\n",
       "\\bottomrule\n",
       "\\end{tabular}\n",
       "\\begin{tabular}{lcccccc}\n",
       "                   & \\textbf{coef} & \\textbf{std err} & \\textbf{t} & \\textbf{P$> |$t$|$} & \\textbf{[0.025} & \\textbf{0.975]}  \\\\\n",
       "\\midrule\n",
       "\\textbf{Intercept} &    -468.1381  &       26.087     &   -17.945  &         0.000        &     -519.279    &     -416.998     \\\\\n",
       "\\textbf{Year}      &       0.2677  &        0.013     &    20.591  &         0.000        &        0.242    &        0.293     \\\\\n",
       "\\bottomrule\n",
       "\\end{tabular}\n",
       "\\begin{tabular}{lclc}\n",
       "\\textbf{Omnibus:}       & 387.409 & \\textbf{  Durbin-Watson:     } &     0.058  \\\\\n",
       "\\textbf{Prob(Omnibus):} &   0.000 & \\textbf{  Jarque-Bera (JB):  } &   469.138  \\\\\n",
       "\\textbf{Skew:}          &  -0.709 & \\textbf{  Prob(JB):          } & 1.34e-102  \\\\\n",
       "\\textbf{Kurtosis:}      &   2.820 & \\textbf{  Cond. No.          } &  4.28e+05  \\\\\n",
       "\\bottomrule\n",
       "\\end{tabular}\n",
       "%\\caption{OLS Regression Results}\n",
       "\\end{center}\n",
       "\n",
       "Notes: \\newline\n",
       " [1] Standard Errors assume that the covariance matrix of the errors is correctly specified. \\newline\n",
       " [2] The condition number is large, 4.28e+05. This might indicate that there are \\newline\n",
       " strong multicollinearity or other numerical problems."
      ],
      "text/plain": [
       "<class 'statsmodels.iolib.summary.Summary'>\n",
       "\"\"\"\n",
       "                            OLS Regression Results                            \n",
       "==============================================================================\n",
       "Dep. Variable:        Life_Expectancy   R-squared:                       0.072\n",
       "Model:                            OLS   Adj. R-squared:                  0.071\n",
       "Method:                 Least Squares   F-statistic:                     424.0\n",
       "Date:                Sat, 19 Oct 2024   Prob (F-statistic):           8.13e-91\n",
       "Time:                        13:24:38   Log-Likelihood:                -19950.\n",
       "No. Observations:                5504   AIC:                         3.990e+04\n",
       "Df Residuals:                    5502   BIC:                         3.992e+04\n",
       "Df Model:                           1                                         \n",
       "Covariance Type:            nonrobust                                         \n",
       "==============================================================================\n",
       "                 coef    std err          t      P>|t|      [0.025      0.975]\n",
       "------------------------------------------------------------------------------\n",
       "Intercept   -468.1381     26.087    -17.945      0.000    -519.279    -416.998\n",
       "Year           0.2677      0.013     20.591      0.000       0.242       0.293\n",
       "==============================================================================\n",
       "Omnibus:                      387.409   Durbin-Watson:                   0.058\n",
       "Prob(Omnibus):                  0.000   Jarque-Bera (JB):              469.138\n",
       "Skew:                          -0.709   Prob(JB):                    1.34e-102\n",
       "Kurtosis:                       2.820   Cond. No.                     4.28e+05\n",
       "==============================================================================\n",
       "\n",
       "Notes:\n",
       "[1] Standard Errors assume that the covariance matrix of the errors is correctly specified.\n",
       "[2] The condition number is large, 4.28e+05. This might indicate that there are\n",
       "strong multicollinearity or other numerical problems.\n",
       "\"\"\""
      ]
     },
     "execution_count": 333,
     "metadata": {},
     "output_type": "execute_result"
    }
   ],
   "source": [
    "gdp_le_linear.summary()"
   ]
  },
  {
   "cell_type": "markdown",
   "id": "e33d3f82-6da2-4392-be1f-975fda0d3dfb",
   "metadata": {},
   "source": [
    "**1a. What coefficients do you get? Interpret the meaning of these coefficents.**\n",
    "\n",
    "It shows a steep negative line where the initial decrease of the dependent variable is much lower than the independent variable's lowest point. This is not a realistic or useful intercept."
   ]
  },
  {
   "cell_type": "markdown",
   "id": "28f1a8db-4910-4c03-81cb-5f4d69341bd6",
   "metadata": {},
   "source": [
    "**1b. Using just the year makes the intercept term difficult to interpret. Create a new model, but this time use years since 1990 as your predictor variable. Hint: You can the patsy identity function to modify your predictors in your model formula. Inspect the new coefficients and interpret the meaning of them. Are they statistically significant?**\n",
    "\n",
    "These new coefficients look a lot more realistic. The p values confirm that these are statistically significant."
   ]
  },
  {
   "cell_type": "code",
   "execution_count": 232,
   "id": "3ba6f18a-f195-4984-b44a-9f77edb0702a",
   "metadata": {},
   "outputs": [
    {
     "data": {
      "text/plain": [
       "Intercept         64.628889\n",
       "I(Year - 1990)     0.267722\n",
       "dtype: float64"
      ]
     },
     "execution_count": 232,
     "metadata": {},
     "output_type": "execute_result"
    }
   ],
   "source": [
    "gdp_le_new = smf.ols(\"Life_Expectancy ~ I(Year - 1990)\", data=gdp_le).fit()\n",
    "gdp_le_new.params"
   ]
  },
  {
   "cell_type": "code",
   "execution_count": 311,
   "id": "9d1d7df7-c4e7-4b66-af94-ae751673ded3",
   "metadata": {},
   "outputs": [],
   "source": [
    "gdp_le_year = gdp_le.groupby('Year')['Life_Expectancy'].mean().reset_index()\n",
    "gdp_le_year['mean_estimate'] = gdp_le_new.predict(gdp_le_year)"
   ]
  },
  {
   "cell_type": "code",
   "execution_count": 313,
   "id": "05742792-5abe-4ac3-ac71-b5dc8357514d",
   "metadata": {},
   "outputs": [
    {
     "data": {
      "text/html": [
       "<div>\n",
       "<style scoped>\n",
       "    .dataframe tbody tr th:only-of-type {\n",
       "        vertical-align: middle;\n",
       "    }\n",
       "\n",
       "    .dataframe tbody tr th {\n",
       "        vertical-align: top;\n",
       "    }\n",
       "\n",
       "    .dataframe thead th {\n",
       "        text-align: right;\n",
       "    }\n",
       "</style>\n",
       "<table border=\"1\" class=\"dataframe\">\n",
       "  <thead>\n",
       "    <tr style=\"text-align: right;\">\n",
       "      <th></th>\n",
       "      <th>Year</th>\n",
       "      <th>Life_Expectancy</th>\n",
       "      <th>mean_estimate</th>\n",
       "    </tr>\n",
       "  </thead>\n",
       "  <tbody>\n",
       "    <tr>\n",
       "      <th>0</th>\n",
       "      <td>1990</td>\n",
       "      <td>64.745253</td>\n",
       "      <td>64.628889</td>\n",
       "    </tr>\n",
       "    <tr>\n",
       "      <th>1</th>\n",
       "      <td>1991</td>\n",
       "      <td>65.021276</td>\n",
       "      <td>64.896612</td>\n",
       "    </tr>\n",
       "    <tr>\n",
       "      <th>2</th>\n",
       "      <td>1992</td>\n",
       "      <td>65.217845</td>\n",
       "      <td>65.164334</td>\n",
       "    </tr>\n",
       "    <tr>\n",
       "      <th>3</th>\n",
       "      <td>1993</td>\n",
       "      <td>65.218031</td>\n",
       "      <td>65.432056</td>\n",
       "    </tr>\n",
       "    <tr>\n",
       "      <th>4</th>\n",
       "      <td>1994</td>\n",
       "      <td>65.339539</td>\n",
       "      <td>65.699778</td>\n",
       "    </tr>\n",
       "  </tbody>\n",
       "</table>\n",
       "</div>"
      ],
      "text/plain": [
       "   Year  Life_Expectancy  mean_estimate\n",
       "0  1990        64.745253      64.628889\n",
       "1  1991        65.021276      64.896612\n",
       "2  1992        65.217845      65.164334\n",
       "3  1993        65.218031      65.432056\n",
       "4  1994        65.339539      65.699778"
      ]
     },
     "execution_count": 313,
     "metadata": {},
     "output_type": "execute_result"
    }
   ],
   "source": [
    "gdp_le_year.head()"
   ]
  },
  {
   "cell_type": "markdown",
   "id": "a7fc895b-6a4d-4363-afb2-07b425e561f3",
   "metadata": {},
   "source": [
    "**1c. Compare the actual mean life expectancy per year to the model's estimate. How well does it do?**\n",
    "\n",
    "It is very close with some deviation from the line in the early 90's and late 2020."
   ]
  },
  {
   "cell_type": "code",
   "execution_count": null,
   "id": "91050fd0-8827-4a5b-8417-b9f92f4c4b3e",
   "metadata": {},
   "outputs": [],
   "source": []
  },
  {
   "cell_type": "markdown",
   "id": "682bcc52-e185-4a24-be28-be776416a8fe",
   "metadata": {},
   "source": [
    "**1d. Plot the actual values against your model's estimates for the mean life expectancy.**"
   ]
  },
  {
   "cell_type": "code",
   "execution_count": 315,
   "id": "1ce55c27-71e0-41ea-bba2-c045ab0c7c10",
   "metadata": {},
   "outputs": [
    {
     "data": {
      "image/png": "[encoded data removed]",
      "text/plain": [
       "<Figure size 640x480 with 1 Axes>"
      ]
     },
     "metadata": {},
     "output_type": "display_data"
    }
   ],
   "source": [
    "gdp_le_year.plot(kind='scatter', x='Year', y='Life_Expectancy')\n",
    "plt.plot(gdp_le['Year'], gdp_le_new.fittedvalues, color='black');"
   ]
  },
  {
   "cell_type": "markdown",
   "id": "d774e358-683b-4010-aa00-fdf60cf19af6",
   "metadata": {},
   "source": [
    "**1e. Inspect the R-squared value for the model. does it make sense, given the plot?**"
   ]
  },
  {
   "cell_type": "code",
   "execution_count": 242,
   "id": "9f17cfd1-f937-431d-98a0-5fd713f0a1a9",
   "metadata": {},
   "outputs": [
    {
     "data": {
      "text/plain": [
       "0.07154748843194658"
      ]
     },
     "execution_count": 242,
     "metadata": {},
     "output_type": "execute_result"
    }
   ],
   "source": [
    "gdp_le_new.rsquared"
   ]
  },
  {
   "cell_type": "markdown",
   "id": "03f62287-2024-4984-a6f1-343ee43129f7",
   "metadata": {},
   "source": [
    "**2. Filter the full dataset down to just the year 2021. Fit a linear regression model with target being life expectancy and predictor variable gdp per capita.**"
   ]
  },
  {
   "cell_type": "code",
   "execution_count": 285,
   "id": "d9dd8529-64fc-4aac-a724-4484a7a637de",
   "metadata": {},
   "outputs": [],
   "source": [
    "gdp_le_2021 = gdp_le.loc[gdp_le['Year'] == 2021]"
   ]
  },
  {
   "cell_type": "markdown",
   "id": "d885b1b1-9905-421f-a544-e177bdc7ace6",
   "metadata": {},
   "source": [
    "**2a. What coefficients do you get? Interpret the meaning of those coefficients.**\n",
    "\n",
    "I have 65.9 for the intercept and .000257 for the slope. This intercept is close to the intercept for all years for life expectancy, however the slope is way less than life expectancy, and cannot be very useful due to its size."
   ]
  },
  {
   "cell_type": "code",
   "execution_count": 331,
   "id": "32266f88-46dd-4fda-be88-2b7f4d989ee8",
   "metadata": {},
   "outputs": [
    {
     "data": {
      "text/html": [
       "<table class=\"simpletable\">\n",
       "<caption>OLS Regression Results</caption>\n",
       "<tr>\n",
       "  <th>Dep. Variable:</th>     <td>Life_Expectancy</td> <th>  R-squared:         </th> <td>   0.555</td>\n",
       "</tr>\n",
       "<tr>\n",
       "  <th>Model:</th>                   <td>OLS</td>       <th>  Adj. R-squared:    </th> <td>   0.553</td>\n",
       "</tr>\n",
       "<tr>\n",
       "  <th>Method:</th>             <td>Least Squares</td>  <th>  F-statistic:       </th> <td>   213.4</td>\n",
       "</tr>\n",
       "<tr>\n",
       "  <th>Date:</th>             <td>Sat, 19 Oct 2024</td> <th>  Prob (F-statistic):</th> <td>6.81e-32</td>\n",
       "</tr>\n",
       "<tr>\n",
       "  <th>Time:</th>                 <td>13:22:05</td>     <th>  Log-Likelihood:    </th> <td> -529.25</td>\n",
       "</tr>\n",
       "<tr>\n",
       "  <th>No. Observations:</th>      <td>   173</td>      <th>  AIC:               </th> <td>   1062.</td>\n",
       "</tr>\n",
       "<tr>\n",
       "  <th>Df Residuals:</th>          <td>   171</td>      <th>  BIC:               </th> <td>   1069.</td>\n",
       "</tr>\n",
       "<tr>\n",
       "  <th>Df Model:</th>              <td>     1</td>      <th>                     </th>     <td> </td>   \n",
       "</tr>\n",
       "<tr>\n",
       "  <th>Covariance Type:</th>      <td>nonrobust</td>    <th>                     </th>     <td> </td>   \n",
       "</tr>\n",
       "</table>\n",
       "<table class=\"simpletable\">\n",
       "<tr>\n",
       "         <td></td>           <th>coef</th>     <th>std err</th>      <th>t</th>      <th>P>|t|</th>  <th>[0.025</th>    <th>0.975]</th>  \n",
       "</tr>\n",
       "<tr>\n",
       "  <th>Intercept</th>      <td>   65.9499</td> <td>    0.549</td> <td>  120.225</td> <td> 0.000</td> <td>   64.867</td> <td>   67.033</td>\n",
       "</tr>\n",
       "<tr>\n",
       "  <th>GDP_Per_Capita</th> <td>    0.0003</td> <td> 1.76e-05</td> <td>   14.608</td> <td> 0.000</td> <td>    0.000</td> <td>    0.000</td>\n",
       "</tr>\n",
       "</table>\n",
       "<table class=\"simpletable\">\n",
       "<tr>\n",
       "  <th>Omnibus:</th>       <td>11.676</td> <th>  Durbin-Watson:     </th> <td>   1.887</td>\n",
       "</tr>\n",
       "<tr>\n",
       "  <th>Prob(Omnibus):</th> <td> 0.003</td> <th>  Jarque-Bera (JB):  </th> <td>  12.725</td>\n",
       "</tr>\n",
       "<tr>\n",
       "  <th>Skew:</th>          <td>-0.664</td> <th>  Prob(JB):          </th> <td> 0.00173</td>\n",
       "</tr>\n",
       "<tr>\n",
       "  <th>Kurtosis:</th>      <td> 2.946</td> <th>  Cond. No.          </th> <td>4.34e+04</td>\n",
       "</tr>\n",
       "</table><br/><br/>Notes:<br/>[1] Standard Errors assume that the covariance matrix of the errors is correctly specified.<br/>[2] The condition number is large, 4.34e+04. This might indicate that there are<br/>strong multicollinearity or other numerical problems."
      ],
      "text/latex": [
       "\\begin{center}\n",
       "\\begin{tabular}{lclc}\n",
       "\\toprule\n",
       "\\textbf{Dep. Variable:}    & Life\\_Expectancy & \\textbf{  R-squared:         } &     0.555   \\\\\n",
       "\\textbf{Model:}            &       OLS        & \\textbf{  Adj. R-squared:    } &     0.553   \\\\\n",
       "\\textbf{Method:}           &  Least Squares   & \\textbf{  F-statistic:       } &     213.4   \\\\\n",
       "\\textbf{Date:}             & Sat, 19 Oct 2024 & \\textbf{  Prob (F-statistic):} &  6.81e-32   \\\\\n",
       "\\textbf{Time:}             &     13:22:05     & \\textbf{  Log-Likelihood:    } &   -529.25   \\\\\n",
       "\\textbf{No. Observations:} &         173      & \\textbf{  AIC:               } &     1062.   \\\\\n",
       "\\textbf{Df Residuals:}     &         171      & \\textbf{  BIC:               } &     1069.   \\\\\n",
       "\\textbf{Df Model:}         &           1      & \\textbf{                     } &             \\\\\n",
       "\\textbf{Covariance Type:}  &    nonrobust     & \\textbf{                     } &             \\\\\n",
       "\\bottomrule\n",
       "\\end{tabular}\n",
       "\\begin{tabular}{lcccccc}\n",
       "                          & \\textbf{coef} & \\textbf{std err} & \\textbf{t} & \\textbf{P$> |$t$|$} & \\textbf{[0.025} & \\textbf{0.975]}  \\\\\n",
       "\\midrule\n",
       "\\textbf{Intercept}        &      65.9499  &        0.549     &   120.225  &         0.000        &       64.867    &       67.033     \\\\\n",
       "\\textbf{GDP\\_Per\\_Capita} &       0.0003  &     1.76e-05     &    14.608  &         0.000        &        0.000    &        0.000     \\\\\n",
       "\\bottomrule\n",
       "\\end{tabular}\n",
       "\\begin{tabular}{lclc}\n",
       "\\textbf{Omnibus:}       & 11.676 & \\textbf{  Durbin-Watson:     } &    1.887  \\\\\n",
       "\\textbf{Prob(Omnibus):} &  0.003 & \\textbf{  Jarque-Bera (JB):  } &   12.725  \\\\\n",
       "\\textbf{Skew:}          & -0.664 & \\textbf{  Prob(JB):          } &  0.00173  \\\\\n",
       "\\textbf{Kurtosis:}      &  2.946 & \\textbf{  Cond. No.          } & 4.34e+04  \\\\\n",
       "\\bottomrule\n",
       "\\end{tabular}\n",
       "%\\caption{OLS Regression Results}\n",
       "\\end{center}\n",
       "\n",
       "Notes: \\newline\n",
       " [1] Standard Errors assume that the covariance matrix of the errors is correctly specified. \\newline\n",
       " [2] The condition number is large, 4.34e+04. This might indicate that there are \\newline\n",
       " strong multicollinearity or other numerical problems."
      ],
      "text/plain": [
       "<class 'statsmodels.iolib.summary.Summary'>\n",
       "\"\"\"\n",
       "                            OLS Regression Results                            \n",
       "==============================================================================\n",
       "Dep. Variable:        Life_Expectancy   R-squared:                       0.555\n",
       "Model:                            OLS   Adj. R-squared:                  0.553\n",
       "Method:                 Least Squares   F-statistic:                     213.4\n",
       "Date:                Sat, 19 Oct 2024   Prob (F-statistic):           6.81e-32\n",
       "Time:                        13:22:05   Log-Likelihood:                -529.25\n",
       "No. Observations:                 173   AIC:                             1062.\n",
       "Df Residuals:                     171   BIC:                             1069.\n",
       "Df Model:                           1                                         \n",
       "Covariance Type:            nonrobust                                         \n",
       "==================================================================================\n",
       "                     coef    std err          t      P>|t|      [0.025      0.975]\n",
       "----------------------------------------------------------------------------------\n",
       "Intercept         65.9499      0.549    120.225      0.000      64.867      67.033\n",
       "GDP_Per_Capita     0.0003   1.76e-05     14.608      0.000       0.000       0.000\n",
       "==============================================================================\n",
       "Omnibus:                       11.676   Durbin-Watson:                   1.887\n",
       "Prob(Omnibus):                  0.003   Jarque-Bera (JB):               12.725\n",
       "Skew:                          -0.664   Prob(JB):                      0.00173\n",
       "Kurtosis:                       2.946   Cond. No.                     4.34e+04\n",
       "==============================================================================\n",
       "\n",
       "Notes:\n",
       "[1] Standard Errors assume that the covariance matrix of the errors is correctly specified.\n",
       "[2] The condition number is large, 4.34e+04. This might indicate that there are\n",
       "strong multicollinearity or other numerical problems.\n",
       "\"\"\""
      ]
     },
     "execution_count": 331,
     "metadata": {},
     "output_type": "execute_result"
    }
   ],
   "source": [
    "gdp_lin_2021 = smf.ols(\"Life_Expectancy ~ GDP_Per_Capita\", data=gdp_le_2021).fit()\n",
    "gdp_lin_2021.summary()"
   ]
  },
  {
   "cell_type": "markdown",
   "id": "f5e10375-0f37-4c12-ba2f-a23fcaf9e755",
   "metadata": {},
   "source": [
    "**2b. Refit your model, but this time use thousands of dollars of gdp per capita as your predictor. How does this change your coefficients?**\n",
    "\n",
    "Yes, this changes the slope to be a reasonable and useful number. "
   ]
  },
  {
   "cell_type": "code",
   "execution_count": 335,
   "id": "272a0103-0138-413b-ac85-8124da95f85e",
   "metadata": {},
   "outputs": [
    {
     "data": {
      "text/html": [
       "<table class=\"simpletable\">\n",
       "<caption>OLS Regression Results</caption>\n",
       "<tr>\n",
       "  <th>Dep. Variable:</th>     <td>Life_Expectancy</td> <th>  R-squared:         </th> <td>   0.555</td>\n",
       "</tr>\n",
       "<tr>\n",
       "  <th>Model:</th>                   <td>OLS</td>       <th>  Adj. R-squared:    </th> <td>   0.553</td>\n",
       "</tr>\n",
       "<tr>\n",
       "  <th>Method:</th>             <td>Least Squares</td>  <th>  F-statistic:       </th> <td>   213.4</td>\n",
       "</tr>\n",
       "<tr>\n",
       "  <th>Date:</th>             <td>Sat, 19 Oct 2024</td> <th>  Prob (F-statistic):</th> <td>6.81e-32</td>\n",
       "</tr>\n",
       "<tr>\n",
       "  <th>Time:</th>                 <td>13:27:07</td>     <th>  Log-Likelihood:    </th> <td> -529.25</td>\n",
       "</tr>\n",
       "<tr>\n",
       "  <th>No. Observations:</th>      <td>   173</td>      <th>  AIC:               </th> <td>   1062.</td>\n",
       "</tr>\n",
       "<tr>\n",
       "  <th>Df Residuals:</th>          <td>   171</td>      <th>  BIC:               </th> <td>   1069.</td>\n",
       "</tr>\n",
       "<tr>\n",
       "  <th>Df Model:</th>              <td>     1</td>      <th>                     </th>     <td> </td>   \n",
       "</tr>\n",
       "<tr>\n",
       "  <th>Covariance Type:</th>      <td>nonrobust</td>    <th>                     </th>     <td> </td>   \n",
       "</tr>\n",
       "</table>\n",
       "<table class=\"simpletable\">\n",
       "<tr>\n",
       "              <td></td>                <th>coef</th>     <th>std err</th>      <th>t</th>      <th>P>|t|</th>  <th>[0.025</th>    <th>0.975]</th>  \n",
       "</tr>\n",
       "<tr>\n",
       "  <th>Intercept</th>                <td>   65.9499</td> <td>    0.549</td> <td>  120.225</td> <td> 0.000</td> <td>   64.867</td> <td>   67.033</td>\n",
       "</tr>\n",
       "<tr>\n",
       "  <th>I(GDP_Per_Capita / 1000)</th> <td>    0.2569</td> <td>    0.018</td> <td>   14.608</td> <td> 0.000</td> <td>    0.222</td> <td>    0.292</td>\n",
       "</tr>\n",
       "</table>\n",
       "<table class=\"simpletable\">\n",
       "<tr>\n",
       "  <th>Omnibus:</th>       <td>11.676</td> <th>  Durbin-Watson:     </th> <td>   1.887</td>\n",
       "</tr>\n",
       "<tr>\n",
       "  <th>Prob(Omnibus):</th> <td> 0.003</td> <th>  Jarque-Bera (JB):  </th> <td>  12.725</td>\n",
       "</tr>\n",
       "<tr>\n",
       "  <th>Skew:</th>          <td>-0.664</td> <th>  Prob(JB):          </th> <td> 0.00173</td>\n",
       "</tr>\n",
       "<tr>\n",
       "  <th>Kurtosis:</th>      <td> 2.946</td> <th>  Cond. No.          </th> <td>    43.4</td>\n",
       "</tr>\n",
       "</table><br/><br/>Notes:<br/>[1] Standard Errors assume that the covariance matrix of the errors is correctly specified."
      ],
      "text/latex": [
       "\\begin{center}\n",
       "\\begin{tabular}{lclc}\n",
       "\\toprule\n",
       "\\textbf{Dep. Variable:}             & Life\\_Expectancy & \\textbf{  R-squared:         } &     0.555   \\\\\n",
       "\\textbf{Model:}                     &       OLS        & \\textbf{  Adj. R-squared:    } &     0.553   \\\\\n",
       "\\textbf{Method:}                    &  Least Squares   & \\textbf{  F-statistic:       } &     213.4   \\\\\n",
       "\\textbf{Date:}                      & Sat, 19 Oct 2024 & \\textbf{  Prob (F-statistic):} &  6.81e-32   \\\\\n",
       "\\textbf{Time:}                      &     13:27:07     & \\textbf{  Log-Likelihood:    } &   -529.25   \\\\\n",
       "\\textbf{No. Observations:}          &         173      & \\textbf{  AIC:               } &     1062.   \\\\\n",
       "\\textbf{Df Residuals:}              &         171      & \\textbf{  BIC:               } &     1069.   \\\\\n",
       "\\textbf{Df Model:}                  &           1      & \\textbf{                     } &             \\\\\n",
       "\\textbf{Covariance Type:}           &    nonrobust     & \\textbf{                     } &             \\\\\n",
       "\\bottomrule\n",
       "\\end{tabular}\n",
       "\\begin{tabular}{lcccccc}\n",
       "                                    & \\textbf{coef} & \\textbf{std err} & \\textbf{t} & \\textbf{P$> |$t$|$} & \\textbf{[0.025} & \\textbf{0.975]}  \\\\\n",
       "\\midrule\n",
       "\\textbf{Intercept}                  &      65.9499  &        0.549     &   120.225  &         0.000        &       64.867    &       67.033     \\\\\n",
       "\\textbf{I(GDP\\_Per\\_Capita / 1000)} &       0.2569  &        0.018     &    14.608  &         0.000        &        0.222    &        0.292     \\\\\n",
       "\\bottomrule\n",
       "\\end{tabular}\n",
       "\\begin{tabular}{lclc}\n",
       "\\textbf{Omnibus:}       & 11.676 & \\textbf{  Durbin-Watson:     } &    1.887  \\\\\n",
       "\\textbf{Prob(Omnibus):} &  0.003 & \\textbf{  Jarque-Bera (JB):  } &   12.725  \\\\\n",
       "\\textbf{Skew:}          & -0.664 & \\textbf{  Prob(JB):          } &  0.00173  \\\\\n",
       "\\textbf{Kurtosis:}      &  2.946 & \\textbf{  Cond. No.          } &     43.4  \\\\\n",
       "\\bottomrule\n",
       "\\end{tabular}\n",
       "%\\caption{OLS Regression Results}\n",
       "\\end{center}\n",
       "\n",
       "Notes: \\newline\n",
       " [1] Standard Errors assume that the covariance matrix of the errors is correctly specified."
      ],
      "text/plain": [
       "<class 'statsmodels.iolib.summary.Summary'>\n",
       "\"\"\"\n",
       "                            OLS Regression Results                            \n",
       "==============================================================================\n",
       "Dep. Variable:        Life_Expectancy   R-squared:                       0.555\n",
       "Model:                            OLS   Adj. R-squared:                  0.553\n",
       "Method:                 Least Squares   F-statistic:                     213.4\n",
       "Date:                Sat, 19 Oct 2024   Prob (F-statistic):           6.81e-32\n",
       "Time:                        13:27:07   Log-Likelihood:                -529.25\n",
       "No. Observations:                 173   AIC:                             1062.\n",
       "Df Residuals:                     171   BIC:                             1069.\n",
       "Df Model:                           1                                         \n",
       "Covariance Type:            nonrobust                                         \n",
       "============================================================================================\n",
       "                               coef    std err          t      P>|t|      [0.025      0.975]\n",
       "--------------------------------------------------------------------------------------------\n",
       "Intercept                   65.9499      0.549    120.225      0.000      64.867      67.033\n",
       "I(GDP_Per_Capita / 1000)     0.2569      0.018     14.608      0.000       0.222       0.292\n",
       "==============================================================================\n",
       "Omnibus:                       11.676   Durbin-Watson:                   1.887\n",
       "Prob(Omnibus):                  0.003   Jarque-Bera (JB):               12.725\n",
       "Skew:                          -0.664   Prob(JB):                      0.00173\n",
       "Kurtosis:                       2.946   Cond. No.                         43.4\n",
       "==============================================================================\n",
       "\n",
       "Notes:\n",
       "[1] Standard Errors assume that the covariance matrix of the errors is correctly specified.\n",
       "\"\"\""
      ]
     },
     "execution_count": 335,
     "metadata": {},
     "output_type": "execute_result"
    }
   ],
   "source": [
    "gdp_lin_2021 = smf.ols(\"Life_Expectancy ~ I(GDP_Per_Capita / 1000)\", data=gdp_le_2021).fit()\n",
    "gdp_lin_2021.summary()"
   ]
  },
  {
   "cell_type": "code",
   "execution_count": null,
   "id": "60330377-d7ed-43f2-86bc-91aa24822916",
   "metadata": {},
   "outputs": [],
   "source": []
  },
  {
   "cell_type": "markdown",
   "id": "0d9d362f-1c4a-4fef-93b8-d75e89e745e9",
   "metadata": {},
   "source": [
    "**2c. Are the coefficients statistically significant?**\n",
    "\n",
    "According to the summary, these coefficients are statistically significant."
   ]
  },
  {
   "cell_type": "markdown",
   "id": "570ce0eb-e890-4b40-bf9f-9946ff5c8285",
   "metadata": {},
   "source": [
    "**2d. What does your model estimate for the mean life expectancy for a country whose gdp per capita is 50,000? What about one whose gdp per capita is 100,000?**\n",
    "\n",
    "The slope increases by each change. This estimates that very few people meet the criteria more and more.\r\n"
   ]
  },
  {
   "cell_type": "code",
   "execution_count": 291,
   "id": "1353a8c9-09ce-4be9-b079-53a884212cb0",
   "metadata": {},
   "outputs": [
    {
     "data": {
      "text/plain": [
       "Intercept                    65.949870\n",
       "I(GDP_Per_Capita / 50000)    12.844587\n",
       "dtype: float64"
      ]
     },
     "execution_count": 291,
     "metadata": {},
     "output_type": "execute_result"
    }
   ],
   "source": [
    "gdp_lin_2021 = smf.ols(\"Life_Expectancy ~ I(GDP_Per_Capita / 50000)\", data=gdp_le_2021).fit()\n",
    "gdp_lin_2021.params"
   ]
  },
  {
   "cell_type": "code",
   "execution_count": 293,
   "id": "093d29bc-ac86-4770-a2b1-2a43f2a85654",
   "metadata": {},
   "outputs": [
    {
     "data": {
      "text/plain": [
       "Intercept                     65.949870\n",
       "I(GDP_Per_Capita / 100000)    25.689175\n",
       "dtype: float64"
      ]
     },
     "execution_count": 293,
     "metadata": {},
     "output_type": "execute_result"
    }
   ],
   "source": [
    "gdp_lin_2021 = smf.ols(\"Life_Expectancy ~ I(GDP_Per_Capita / 100000)\", data=gdp_le_2021).fit()\n",
    "gdp_lin_2021.params"
   ]
  },
  {
   "cell_type": "markdown",
   "id": "ff75443c-b83f-45eb-ac94-d2e10e5e417f",
   "metadata": {},
   "source": [
    "**2e. Plot the actual values compared to your model's estimates for mean life expectancy. How would you assess the model's fit?**"
   ]
  },
  {
   "cell_type": "code",
   "execution_count": 307,
   "id": "c8eb198f-1b15-4216-a0af-3d0a9bdd59c7",
   "metadata": {},
   "outputs": [
    {
     "data": {
      "text/plain": [
       "<Axes: xlabel='Life_Expectancy', ylabel='GDP_Per_Capita'>"
      ]
     },
     "execution_count": 307,
     "metadata": {},
     "output_type": "execute_result"
    },
    {
     "data": {
      "image/png": "[encoded data removed]",
      "text/plain": [
       "<Figure size 640x480 with 1 Axes>"
      ]
     },
     "metadata": {},
     "output_type": "display_data"
    }
   ],
   "source": [
    "gdp_le_2021.plot(kind='scatter', x='Life_Expectancy', y='GDP_Per_Capita')\n",
    "#plt.plot(gdp_le_2021['GDP_Per_Capita'], gdp_lin_2021.fittedvalues, color='black');"
   ]
  },
  {
   "cell_type": "markdown",
   "id": "39c0ea8b-2827-46f8-8548-1c7806bedbd5",
   "metadata": {},
   "source": [
    "**3. Now, fit a model for life expectancy based on the log of gdp per capita.**?"
   ]
  },
  {
   "cell_type": "code",
   "execution_count": 327,
   "id": "1d987a9c-7ad0-4fcd-bb8f-d99eae506a18",
   "metadata": {},
   "outputs": [],
   "source": [
    "gdp_log = np.log(gdp_le_2021['GDP_Per_Capita'])\n",
    "gdp_log_2021 = smf.ols(\"Life_Expectancy ~ I(gdp_log)\", data=gdp_le_2021).fit()"
   ]
  },
  {
   "cell_type": "code",
   "execution_count": 329,
   "id": "b192ebd9-37eb-4019-b702-2aacddcf5ef5",
   "metadata": {},
   "outputs": [
    {
     "data": {
      "text/plain": [
       "Intercept     18.946970\n",
       "I(gdp_log)     5.589014\n",
       "dtype: float64"
      ]
     },
     "execution_count": 329,
     "metadata": {},
     "output_type": "execute_result"
    }
   ],
   "source": [
    "gdp_log_2021.params"
   ]
  },
  {
   "cell_type": "markdown",
   "id": "53382bb0-540d-4f29-9ee3-66ff8389bdd4",
   "metadata": {},
   "source": [
    "**3a. Inspect the coefficients for this model. Are they statistically significant? b. Interpret these coefficients. What does the model estimate for the average life expectancy for countries with a gdp per capita of 50,000? What about for those with a gdp per capita of 100,000?**"
   ]
  },
  {
   "cell_type": "code",
   "execution_count": null,
   "id": "385d4b2d-84ba-490a-b74c-ae7b042044a3",
   "metadata": {},
   "outputs": [],
   "source": []
  },
  {
   "cell_type": "markdown",
   "id": "894dc3c1-a717-45c9-934d-55069af8cc94",
   "metadata": {},
   "source": [
    "**3c. Plot the actual values compared to your models' estimates for the mean life expectancy. How does this compare to the non-logged model?**"
   ]
  },
  {
   "cell_type": "code",
   "execution_count": null,
   "id": "c30c05e2-0a5e-4930-9e6c-961afeeab84e",
   "metadata": {},
   "outputs": [],
   "source": []
  },
  {
   "cell_type": "markdown",
   "id": "1f6b720e-68b8-46ae-97f9-d8ca5e0d3806",
   "metadata": {},
   "source": [
    "**4. Finally, return to the full dataset.**"
   ]
  },
  {
   "cell_type": "code",
   "execution_count": null,
   "id": "bca4f211-c6a7-47ba-b0cc-7b257db471a5",
   "metadata": {},
   "outputs": [],
   "source": []
  },
  {
   "cell_type": "markdown",
   "id": "ac6bf362-edcb-4093-b63d-9729cfca3430",
   "metadata": {},
   "source": [
    "**4a. First, fit a linear regression model for life expectancy based on the log of gdp per capita.**"
   ]
  },
  {
   "cell_type": "code",
   "execution_count": null,
   "id": "4becb9e3-0771-4783-ab7f-ea39adf180d7",
   "metadata": {},
   "outputs": [],
   "source": []
  },
  {
   "cell_type": "markdown",
   "id": "1583db45-f8bc-4e07-b621-f202a7a82bb9",
   "metadata": {},
   "source": [
    "**4b. Then, add the year variable to your model. How can you interpret the coefficient associated with year? What limitations or weaknesses might this model have?**"
   ]
  },
  {
   "cell_type": "code",
   "execution_count": null,
   "id": "4c4aec99-5d41-4db2-9ae0-ff165f02f73d",
   "metadata": {},
   "outputs": [],
   "source": []
  }
 ],
 "metadata": {
  "kernelspec": {
   "display_name": "Python 3 (ipykernel)",
   "language": "python",
   "name": "python3"
  },
  "language_info": {
   "codemirror_mode": {
    "name": "ipython",
    "version": 3
   },
   "file_extension": ".py",
   "mimetype": "text/x-python",
   "name": "python",
   "nbconvert_exporter": "python",
   "pygments_lexer": "ipython3",
   "version": "3.12.4"
  }
 },
 "nbformat": 4,
 "nbformat_minor": 5
}
